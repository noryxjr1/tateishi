{
  "nbformat": 4,
  "nbformat_minor": 0,
  "metadata": {
    "kernelspec": {
      "display_name": "Python 3",
      "language": "python",
      "name": "python3"
    },
    "language_info": {
      "codemirror_mode": {
        "name": "ipython",
        "version": 3
      },
      "file_extension": ".py",
      "mimetype": "text/x-python",
      "name": "python",
      "nbconvert_exporter": "python",
      "pygments_lexer": "ipython3",
      "version": "3.7.7"
    },
    "colab": {
      "name": "em_ccy_simulation.ipynb",
      "provenance": [],
      "collapsed_sections": [],
      "include_colab_link": true
    },
    "accelerator": "GPU"
  },
  "cells": [
    {
      "cell_type": "markdown",
      "metadata": {
        "id": "view-in-github",
        "colab_type": "text"
      },
      "source": [
        "<a href=\"https://colab.research.google.com/github/noryxjr1/tateishi/blob/master/em_ccy_simulation.ipynb\" target=\"_parent\"><img src=\"https://colab.research.google.com/assets/colab-badge.svg\" alt=\"Open In Colab\"/></a>"
      ]
    },
    {
      "cell_type": "markdown",
      "metadata": {
        "id": "4t6e13kneEcS",
        "colab_type": "text"
      },
      "source": [
        "***Mount Google Drive***\n",
        "\n",
        ":This process is necessary to authorize request from Google Colabo"
      ]
    },
    {
      "cell_type": "code",
      "metadata": {
        "id": "lmudnx9g01kC",
        "colab_type": "code",
        "colab": {
          "base_uri": "https://localhost:8080/",
          "height": 124
        },
        "outputId": "da1b703c-0963-402a-f301-0b79f871f7f8"
      },
      "source": [
        "from google.colab import drive\n",
        "drive.mount('/content/drive')"
      ],
      "execution_count": 2,
      "outputs": [
        {
          "output_type": "stream",
          "text": [
            "Go to this URL in a browser: https://accounts.google.com/o/oauth2/auth?client_id=947318989803-6bn6qk8qdgf4n4g3pfee6491hc0brc4i.apps.googleusercontent.com&redirect_uri=urn%3aietf%3awg%3aoauth%3a2.0%3aoob&response_type=code&scope=email%20https%3a%2f%2fwww.googleapis.com%2fauth%2fdocs.test%20https%3a%2f%2fwww.googleapis.com%2fauth%2fdrive%20https%3a%2f%2fwww.googleapis.com%2fauth%2fdrive.photos.readonly%20https%3a%2f%2fwww.googleapis.com%2fauth%2fpeopleapi.readonly\n",
            "\n",
            "Enter your authorization code:\n",
            "··········\n",
            "Mounted at /content/drive\n"
          ],
          "name": "stdout"
        }
      ]
    },
    {
      "cell_type": "markdown",
      "metadata": {
        "id": "aUEoLahJeuBJ",
        "colab_type": "text"
      },
      "source": [
        "***Change Directory to python project***\n",
        "\n",
        ":modifiy the directory according to own environment"
      ]
    },
    {
      "cell_type": "code",
      "metadata": {
        "id": "J_kjIcVX01kG",
        "colab_type": "code",
        "colab": {
          "base_uri": "https://localhost:8080/",
          "height": 35
        },
        "outputId": "31f25caa-c11b-471c-ffbd-73ca3b72c808"
      },
      "source": [
        "cd /content/drive/My\\ Drive/Colab\\ Notebooks/em_ccy/em_ccy_strategy"
      ],
      "execution_count": 2,
      "outputs": [
        {
          "output_type": "stream",
          "text": [
            "/content/drive/My Drive/Colab Notebooks/em_ccy/em_ccy_strategy\n"
          ],
          "name": "stdout"
        }
      ]
    },
    {
      "cell_type": "markdown",
      "metadata": {
        "id": "0CFPqvf3u19H",
        "colab_type": "text"
      },
      "source": [
        ""
      ]
    },
    {
      "cell_type": "markdown",
      "metadata": {
        "id": "LHo7vNYPfLqg",
        "colab_type": "text"
      },
      "source": [
        "\n",
        "\n",
        "---\n",
        "\n"
      ]
    },
    {
      "cell_type": "markdown",
      "metadata": {
        "id": "e85jOcr-g_RI",
        "colab_type": "text"
      },
      "source": [
        "Make feature vector and label to predict financial condition using deep learning\n",
        "\n",
        ":output csv file in \"input\" directory"
      ]
    },
    {
      "cell_type": "code",
      "metadata": {
        "id": "j0yMnKgNgrr4",
        "colab_type": "code",
        "colab": {}
      },
      "source": [
        "!python -m fc_selector.fc_factor_maker"
      ],
      "execution_count": null,
      "outputs": []
    },
    {
      "cell_type": "markdown",
      "metadata": {
        "id": "OrY_eYhte3mv",
        "colab_type": "text"
      },
      "source": [
        "Execute Machine Learning process to predict Financial Condition (GS or Chicago)\n",
        "\n",
        ":output simulation result in \"output\" directory and one of the files(prediction result) in \"input\" directory to use simulation"
      ]
    },
    {
      "cell_type": "code",
      "metadata": {
        "id": "6LcpDtB501kI",
        "colab_type": "code",
        "colab": {}
      },
      "source": [
        "!python -m simulation.ml_fc_sim"
      ],
      "execution_count": null,
      "outputs": []
    },
    {
      "cell_type": "markdown",
      "metadata": {
        "id": "PHMrpgMoh1T5",
        "colab_type": "text"
      },
      "source": [
        "Execute emerging currency simulation using prediction result of financial condition "
      ]
    },
    {
      "cell_type": "code",
      "metadata": {
        "id": "fn50sxZ4mdGN",
        "colab_type": "code",
        "colab": {}
      },
      "source": [
        "!python -m simulation.estimated_fc_sim"
      ],
      "execution_count": null,
      "outputs": []
    },
    {
      "cell_type": "code",
      "metadata": {
        "id": "Bdo2Edlpmtwb",
        "colab_type": "code",
        "colab": {
          "base_uri": "https://localhost:8080/",
          "height": 381
        },
        "outputId": "36374232-6695-4de6-cc02-0cee15b82cd6"
      },
      "source": [
        "!nvidia-smi -l"
      ],
      "execution_count": 1,
      "outputs": [
        {
          "output_type": "stream",
          "text": [
            "Wed Jul 29 10:37:16 2020       \n",
            "+-----------------------------------------------------------------------------+\n",
            "| NVIDIA-SMI 450.51.05    Driver Version: 418.67       CUDA Version: 10.1     |\n",
            "|-------------------------------+----------------------+----------------------+\n",
            "| GPU  Name        Persistence-M| Bus-Id        Disp.A | Volatile Uncorr. ECC |\n",
            "| Fan  Temp  Perf  Pwr:Usage/Cap|         Memory-Usage | GPU-Util  Compute M. |\n",
            "|                               |                      |               MIG M. |\n",
            "|===============================+======================+======================|\n",
            "|   0  Tesla K80           Off  | 00000000:00:04.0 Off |                    0 |\n",
            "| N/A   37C    P8    27W / 149W |      0MiB / 11441MiB |      0%      Default |\n",
            "|                               |                      |                 ERR! |\n",
            "+-------------------------------+----------------------+----------------------+\n",
            "                                                                               \n",
            "+-----------------------------------------------------------------------------+\n",
            "| Processes:                                                                  |\n",
            "|  GPU   GI   CI        PID   Type   Process name                  GPU Memory |\n",
            "|        ID   ID                                                   Usage      |\n",
            "|=============================================================================|\n",
            "|  No running processes found                                                 |\n",
            "+-----------------------------------------------------------------------------+\n",
            "Error occurred while waiting for the event: Function Not Found\n"
          ],
          "name": "stdout"
        }
      ]
    },
    {
      "cell_type": "code",
      "metadata": {
        "id": "A8IZmfjGJdEo",
        "colab_type": "code",
        "colab": {}
      },
      "source": [
        ""
      ],
      "execution_count": null,
      "outputs": []
    }
  ]
}